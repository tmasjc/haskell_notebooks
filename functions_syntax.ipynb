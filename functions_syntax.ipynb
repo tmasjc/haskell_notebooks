{
 "cells": [
  {
   "cell_type": "markdown",
   "metadata": {},
   "source": [
    "# Warm up"
   ]
  },
  {
   "cell_type": "markdown",
   "metadata": {},
   "source": [
    "A custom `length` function"
   ]
  },
  {
   "cell_type": "code",
   "execution_count": 26,
   "metadata": {},
   "outputs": [],
   "source": [
    "length'' :: (Num b) => [a] -> b\n",
    "length'' [] = 0\n",
    "length'' (_:xs) = 1 + length'' xs"
   ]
  },
  {
   "cell_type": "code",
   "execution_count": 27,
   "metadata": {},
   "outputs": [
    {
     "data": {
      "text/plain": [
       "True"
      ]
     },
     "metadata": {},
     "output_type": "display_data"
    }
   ],
   "source": [
    "let somecharlist = [\"a\", \"b\", \"c\"]\n",
    "length somecharlist == length'' somecharlist"
   ]
  },
  {
   "cell_type": "markdown",
   "metadata": {},
   "source": [
    "A custom `sum` function"
   ]
  },
  {
   "cell_type": "code",
   "execution_count": 28,
   "metadata": {},
   "outputs": [],
   "source": [
    "sum'' :: (Num a) => [a] -> a\n",
    "sum'' [] = 0\n",
    "sum'' (x:xs) = x + sum'' xs"
   ]
  },
  {
   "cell_type": "code",
   "execution_count": 29,
   "metadata": {},
   "outputs": [
    {
     "data": {
      "text/plain": [
       "True"
      ]
     },
     "metadata": {},
     "output_type": "display_data"
    }
   ],
   "source": [
    "let someintlist = [1, 2, 3]\n",
    "sum someintlist == sum'' someintlist"
   ]
  },
  {
   "cell_type": "markdown",
   "metadata": {},
   "source": [
    "A custom `max` function"
   ]
  },
  {
   "cell_type": "code",
   "execution_count": 30,
   "metadata": {},
   "outputs": [],
   "source": [
    "max'' :: (Ord a) => a -> a -> a\n",
    "max'' a b\n",
    "    | a > b = a\n",
    "    | otherwise = b"
   ]
  },
  {
   "cell_type": "code",
   "execution_count": 33,
   "metadata": {},
   "outputs": [
    {
     "data": {
      "text/plain": [
       "8"
      ]
     },
     "metadata": {},
     "output_type": "display_data"
    }
   ],
   "source": [
    "max 7 8"
   ]
  },
  {
   "cell_type": "markdown",
   "metadata": {},
   "source": [
    "A custom `compare` function"
   ]
  },
  {
   "cell_type": "code",
   "execution_count": 37,
   "metadata": {},
   "outputs": [],
   "source": [
    "compare'' :: (Ord a) => a -> a -> Ordering\n",
    "compare'' a b \n",
    "    | a > b  = GT\n",
    "    | a == b    = EQ\n",
    "    | otherwise = LT"
   ]
  },
  {
   "cell_type": "code",
   "execution_count": 38,
   "metadata": {},
   "outputs": [
    {
     "data": {
      "text/plain": [
       "LT"
      ]
     },
     "metadata": {},
     "output_type": "display_data"
    }
   ],
   "source": [
    "compare'' 5 6"
   ]
  },
  {
   "cell_type": "markdown",
   "metadata": {},
   "source": [
    "A custom `tellBMI` function, given value determines if skinny, normal or fat."
   ]
  },
  {
   "cell_type": "code",
   "execution_count": 53,
   "metadata": {},
   "outputs": [],
   "source": [
    "tellBMI :: (RealFloat a) => a -> a -> String\n",
    "tellBMI weight height\n",
    "    | bmi <= skinny = \"Underweight\"\n",
    "    | bmi <= normal = \"Healthy\"\n",
    "    | bmi <= fat    = \"Overweight\"\n",
    "    | otherwise     = \"Beyond our scope...\"\n",
    "    where bmi = weight / height ^ 2\n",
    "          skinny = 18.5\n",
    "          normal = 25.0\n",
    "          fat    = 30.0"
   ]
  },
  {
   "cell_type": "code",
   "execution_count": 54,
   "metadata": {},
   "outputs": [
    {
     "data": {
      "text/plain": [
       "\"Healthy\""
      ]
     },
     "metadata": {},
     "output_type": "display_data"
    }
   ],
   "source": [
    "tellBMI 71 1.88"
   ]
  },
  {
   "cell_type": "markdown",
   "metadata": {},
   "source": [
    "A custom `calcBMI` function, calculate bmi given a list of weight and height in pairs"
   ]
  },
  {
   "cell_type": "code",
   "execution_count": 58,
   "metadata": {},
   "outputs": [],
   "source": [
    "calcBMI :: (RealFloat a) => [(a, a)] -> [a]\n",
    "calcBMI xs = [bmi w h | (w, h) <- xs]\n",
    "    where bmi w h = w / h ^ 2"
   ]
  },
  {
   "cell_type": "code",
   "execution_count": 59,
   "metadata": {},
   "outputs": [
    {
     "data": {
      "text/plain": [
       "[20.088275237664103,21.32943754565376]"
      ]
     },
     "metadata": {},
     "output_type": "display_data"
    }
   ],
   "source": [
    "calcBMI [(71,1.88), (73, 1.85)]"
   ]
  },
  {
   "cell_type": "markdown",
   "metadata": {},
   "source": [
    "## Intermediate"
   ]
  },
  {
   "cell_type": "markdown",
   "metadata": {},
   "source": [
    "A function determines if a list if increasing."
   ]
  },
  {
   "cell_type": "code",
   "execution_count": 26,
   "metadata": {},
   "outputs": [],
   "source": [
    "increasing :: (Ord a) => [a] -> Bool\n",
    "increasing (x:y:ys) = x <= y && increasing (y:ys)\n",
    "increasing _ = True"
   ]
  },
  {
   "cell_type": "code",
   "execution_count": 37,
   "metadata": {},
   "outputs": [
    {
     "data": {
      "text/plain": [
       "True"
      ]
     },
     "metadata": {},
     "output_type": "display_data"
    },
    {
     "data": {
      "text/plain": [
       "False"
      ]
     },
     "metadata": {},
     "output_type": "display_data"
    }
   ],
   "source": [
    "increasing [1..4]\n",
    "increasing [5,4,1]"
   ]
  },
  {
   "cell_type": "markdown",
   "metadata": {},
   "source": [
    "A function that removes vowels from a string"
   ]
  },
  {
   "cell_type": "code",
   "execution_count": 44,
   "metadata": {},
   "outputs": [],
   "source": [
    "noVowel :: [Char] -> [Char]\n",
    "noVowel [] = \"\"\n",
    "noVowel (x:xs) = if x `elem` \"aeiouAEIOU\" then noVowel xs else x : noVowel xs"
   ]
  },
  {
   "cell_type": "code",
   "execution_count": 45,
   "metadata": {},
   "outputs": [
    {
     "data": {
      "text/plain": [
       "\"Hll Wrld!\""
      ]
     },
     "metadata": {},
     "output_type": "display_data"
    }
   ],
   "source": [
    "noVowel \"Hello World!\""
   ]
  },
  {
   "cell_type": "code",
   "execution_count": 47,
   "metadata": {},
   "outputs": [],
   "source": [
    "noVowel2 :: [Char] -> [Char]\n",
    "noVowel2 [] = \"\"\n",
    "noVowel2 (x:xs) \n",
    "        | x `elem` \"aeiouAEIOU\" = noVowel xs\n",
    "        | otherwise  = x : noVowel xs"
   ]
  },
  {
   "cell_type": "code",
   "execution_count": 48,
   "metadata": {},
   "outputs": [
    {
     "data": {
      "text/plain": [
       "\"Rss r rd, sks r bl\""
      ]
     },
     "metadata": {},
     "output_type": "display_data"
    }
   ],
   "source": [
    "noVowel2 \"Roses are red, skies are blue\""
   ]
  }
 ],
 "metadata": {
  "kernelspec": {
   "display_name": "Haskell",
   "language": "haskell",
   "name": "haskell"
  },
  "language_info": {
   "codemirror_mode": "ihaskell",
   "file_extension": ".hs",
   "name": "haskell",
   "pygments_lexer": "Haskell",
   "version": "8.2.2"
  }
 },
 "nbformat": 4,
 "nbformat_minor": 2
}
